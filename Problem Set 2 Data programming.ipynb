{
 "cells": [
  {
   "cell_type": "markdown",
   "id": "2deb0dae",
   "metadata": {},
   "source": [
    "Question 1\n",
    "\n",
    "Consider the following Python module:\n",
    "\n",
    "a = 0\n",
    "\n",
    "def b():\n",
    "    global a\n",
    "    a = c(a)\n",
    "\n",
    "def c(a):\n",
    "    return a + 2\n",
    "\n",
    "After importing the module into the interpreter, you execute:\n",
    "\n",
    "b()\n",
    "\n",
    "b()\n",
    "\n",
    "b()\n",
    "\n",
    "a\n",
    "\n",
    "What value is displayed when the last expression (a) is evaluated? Explain your answer by indicating what happens in every executed statement."
   ]
  },
  {
   "cell_type": "code",
   "execution_count": 15,
   "id": "07cf0c29",
   "metadata": {},
   "outputs": [],
   "source": [
    "a = 0\n",
    "\n",
    "def b():\n",
    "    global a\n",
    "    a = c(a)\n",
    "\n",
    "def c(a):\n",
    "    return a + 2"
   ]
  },
  {
   "cell_type": "code",
   "execution_count": 16,
   "id": "94672fba",
   "metadata": {},
   "outputs": [],
   "source": [
    "b()"
   ]
  },
  {
   "cell_type": "code",
   "execution_count": 17,
   "id": "5a7a3b88",
   "metadata": {},
   "outputs": [],
   "source": [
    "b()"
   ]
  },
  {
   "cell_type": "code",
   "execution_count": 18,
   "id": "934006b8",
   "metadata": {},
   "outputs": [],
   "source": [
    "b()"
   ]
  },
  {
   "cell_type": "code",
   "execution_count": 19,
   "id": "8dca5b75",
   "metadata": {},
   "outputs": [
    {
     "data": {
      "text/plain": [
       "6"
      ]
     },
     "execution_count": 19,
     "metadata": {},
     "output_type": "execute_result"
    }
   ],
   "source": [
    "a"
   ]
  },
  {
   "attachments": {
    "Ans1.png": {
     "image/png": "[encoded data removed]"
    }
   },
   "cell_type": "markdown",
   "id": "ffa5357a",
   "metadata": {},
   "source": [
    "![Ans1.png](attachment:Ans1.png)"
   ]
  },
  {
   "cell_type": "markdown",
   "id": "1bcc6127",
   "metadata": {},
   "source": [
    "1) In the first b() call the global a is used i.e. 0 which is passed to c() from which the value of a becomes 2 and hence b() returns 2\n",
    "2) In the second b() call the same process is followed and the a value becomes 4\n",
    "3) The same thing in the 3rd b() call. The value of a becomes 6\n",
    "4) As the a used in b() was declared global so the value change of a is made to the global a. Hence the final value of a becomes 6"
   ]
  },
  {
   "cell_type": "markdown",
   "id": "3bcce012",
   "metadata": {},
   "source": [
    "Question 2\n",
    "\n",
    "Function fileLength(), given to you, takes the name of a file as input and returns \n",
    "the length of the file:\n",
    ">>> fileLength('midterm.py')\n",
    "284\n",
    ">>> fileLength('idterm.py')\n",
    "Traceback (most recent call last):\n",
    "File \"<pyshell#34>\", line 1, in <module>\n",
    " fileLength('idterm.py')\n",
    "File \"/Users/me/midterm.py\", line 3, in fileLength\n",
    " infile = open(filename)\n",
    "FileNotFoundError: [Errno 2] No such file or directory: \n",
    "'idterm.py'\n",
    "As shown above, if the file cannot be found by the interpreter or if it cannot be read \n",
    "as a text file, an exception will be raised. Modify function fileLength() so that a \n",
    "friendly message is printed instead:\n",
    ">>> fileLength('midterm.py')\n",
    "358\n",
    ">>> fileLength('idterm.py')\n",
    "File idterm.py not found."
   ]
  },
  {
   "cell_type": "code",
   "execution_count": 30,
   "id": "0715d751",
   "metadata": {},
   "outputs": [],
   "source": [
    "def file_length(file_name):\n",
    "  try:\n",
    "    file = open(file_name)\n",
    "    contents = file.read()\n",
    "    len_of_contents=len(contents)\n",
    "    file.close()\n",
    "    return len_of_contents\n",
    "  except:\n",
    "        return \"file \"+ file_name + \" not found.\""
   ]
  },
  {
   "cell_type": "code",
   "execution_count": 32,
   "id": "2ac75e17",
   "metadata": {},
   "outputs": [
    {
     "data": {
      "text/plain": [
       "396"
      ]
     },
     "execution_count": 32,
     "metadata": {},
     "output_type": "execute_result"
    }
   ],
   "source": [
    "file_length('w3c.html')"
   ]
  },
  {
   "cell_type": "code",
   "execution_count": 33,
   "id": "fa04c19e",
   "metadata": {},
   "outputs": [
    {
     "data": {
      "text/plain": [
       "'file idterm.py not found.'"
      ]
     },
     "execution_count": 33,
     "metadata": {},
     "output_type": "execute_result"
    }
   ],
   "source": [
    "file_length('idterm.py')"
   ]
  },
  {
   "attachments": {
    "Ans2.png": {
     "image/png": "[encoded data removed]"
    }
   },
   "cell_type": "markdown",
   "id": "9d559ec3",
   "metadata": {},
   "source": [
    "![Ans2.png](attachment:Ans2.png)"
   ]
  },
  {
   "cell_type": "markdown",
   "id": "55f00b94",
   "metadata": {},
   "source": [
    "Question 3\n",
    "\n",
    "Write a class named Marsupial that can be used as shown below:\n",
    ">>> m = Marsupial()\n",
    ">>> m.put_in_pouch('doll')\n",
    ">>> m.put_in_pouch('firetruck')\n",
    ">>> m.put_in_pouch('kitten')\n",
    ">>> m.pouch_contents()\n",
    "['doll', 'firetruck', 'kitten']\n"
   ]
  },
  {
   "cell_type": "code",
   "execution_count": 34,
   "id": "6e99103d",
   "metadata": {},
   "outputs": [
    {
     "name": "stdout",
     "output_type": "stream",
     "text": [
      "['doll', 'firetruck', 'kitten']\n"
     ]
    }
   ],
   "source": [
    "class Marsupial:\n",
    "\n",
    "    def __init__(self):\n",
    "        self.new_list = []\n",
    "        self.new_list.clear()\n",
    "\n",
    "    def put_in_pouch(self, value):s\n",
    "        self.new_list.append(value)\n",
    "\n",
    "    def pouch_contents(self):\n",
    "        return self.new_list\n",
    "    \n",
    "m = Marsupial()\n",
    "m.put_in_pouch('doll')\n",
    "m.put_in_pouch('firetruck')\n",
    "m.put_in_pouch('kitten')\n",
    "print(m.pouch_contents())"
   ]
  },
  {
   "attachments": {
    "Ans3.1.png": {
     "image/png": "[encoded data removed]"
    }
   },
   "cell_type": "markdown",
   "id": "260aed79",
   "metadata": {},
   "source": [
    "![Ans3.1.png](attachment:Ans3.1.png)"
   ]
  },
  {
   "cell_type": "markdown",
   "id": "f08beeda",
   "metadata": {},
   "source": [
    "\n",
    "Now write a class named Kangaroo as a subclass of Marsupial that inherits all the \n",
    "attributes of Marsupial and also:\n",
    "a. extends the Marsupial __init__ constructor to take, as input, the \n",
    "coordinates x and y of the Kangaroo object,\n",
    "b. supports method jump that takes number values dx and dy as input and \n",
    "moves the kangaroo by dx units along the x-axis and by dy units along the y\u0002axis, and\n",
    "c. overloads the __str__ operator so it behaves as shown below.\n",
    "\n",
    ">>> k = Kangaroo(0,0)\n",
    ">>> print(k)\n",
    "I am a Kangaroo located at coordinates (0,0)\n",
    ">>> k.put_in_pouch('doll')\n",
    ">>> k.put_in_pouch('firetruck')\n",
    ">>> k.put_in_pouch('kitten')\n",
    ">>> k.pouch_contents()\n",
    "['doll', 'firetruck', 'kitten']\n",
    "\n",
    ">>> k.jump(1,0)\n",
    ">>> k.jump(1,0)\n",
    ">>> k.jump(1,0)\n",
    ">>> print(k)\n",
    "\n",
    "I am a Kangaroo located at coordinates (3,0)"
   ]
  },
  {
   "attachments": {
    "Ans3.2.png": {
     "image/png": "[encoded data removed]"
    }
   },
   "cell_type": "markdown",
   "id": "8851f916",
   "metadata": {},
   "source": [
    "![Ans3.2.png](attachment:Ans3.2.png)"
   ]
  },
  {
   "cell_type": "code",
   "execution_count": 35,
   "id": "3f12725e",
   "metadata": {},
   "outputs": [
    {
     "name": "stdout",
     "output_type": "stream",
     "text": [
      "I am a Kangaroo located at coordinates (0,0)\n",
      "['doll', 'firetruck', 'kitten']\n",
      "I am a Kangaroo located at coordinates (3,0)\n"
     ]
    }
   ],
   "source": [
    "class Kangaroo(Marsupial):\n",
    "\n",
    "    def __init__(self,x,y):\n",
    "        self.new_list = []\n",
    "        self.new_list.clear ()\n",
    "        self.x = x\n",
    "        self.y = y\n",
    "        \n",
    "    def  __str__(self):\n",
    "         return (\"I am a Kangaroo located at coordinates (\"+str(self.x)+\",\"+str(self.y)+\")\")\n",
    "\n",
    "    def jump(self,dx,dy):\n",
    "        self.x = self.x + dx\n",
    "        self.y = self.y + dy\n",
    "    \n",
    "        \n",
    "k = Kangaroo(0,0)\n",
    "print(k)\n",
    "k.put_in_pouch('doll')\n",
    "k.put_in_pouch('firetruck')\n",
    "k.put_in_pouch('kitten')\n",
    "print(k.pouch_contents())\n",
    "k.jump(1,0)\n",
    "k.jump(1,0)\n",
    "k.jump(1,0)\n",
    "print(k)"
   ]
  },
  {
   "attachments": {
    "Ans3.3.png": {
     "image/png": "[encoded data removed]"
    }
   },
   "cell_type": "markdown",
   "id": "6393eaed",
   "metadata": {},
   "source": [
    "![Ans3.3.png](attachment:Ans3.3.png)"
   ]
  },
  {
   "cell_type": "markdown",
   "id": "efd02adf",
   "metadata": {},
   "source": [
    "Question 4\n",
    "\n",
    "Write function collatz() that takes a positive integer x as input and prints the \n",
    "Collatz sequence starting at x. A Collatz sequence is obtained by repeatedly applying \n",
    "this rule to the previous number x in the sequence:\n",
    "x = {\n",
    "𝑥/2 𝑖𝑓 𝑥 𝑖𝑠 𝑒𝑣𝑒𝑛\n",
    "3𝑥 + 1 𝑖𝑓 𝑥 𝑖𝑠 𝑜𝑑𝑑\n",
    "Your function should stop when the sequence gets to number 1. Your \n",
    "implementation must be recursive, without any loops."
   ]
  },
  {
   "cell_type": "code",
   "execution_count": 38,
   "id": "e75ab39c",
   "metadata": {},
   "outputs": [],
   "source": [
    "def collatz(input):\n",
    "    \n",
    "    new_list = [input]\n",
    "    if input < 1:\n",
    "        return (\"Enter a postive integer\")\n",
    "\n",
    "    if input == 1:\n",
    "        return [1]\n",
    "    \n",
    "    elif input % 2 == 0:\n",
    "        new_list.extend(collatz(int(input/2)))\n",
    "    else:\n",
    "        new_list.extend(collatz((input*3)+1))\n",
    "    return new_list"
   ]
  },
  {
   "cell_type": "code",
   "execution_count": 41,
   "id": "5cdb2bad",
   "metadata": {},
   "outputs": [
    {
     "name": "stdout",
     "output_type": "stream",
     "text": [
      "1\n"
     ]
    }
   ],
   "source": [
    "numbers = collatz(1)\n",
    "for n in numbers:\n",
    "    print(n)"
   ]
  },
  {
   "cell_type": "code",
   "execution_count": 44,
   "id": "6e6aca1c",
   "metadata": {},
   "outputs": [
    {
     "name": "stdout",
     "output_type": "stream",
     "text": [
      "10\n",
      "5\n",
      "16\n",
      "8\n",
      "4\n",
      "2\n",
      "1\n"
     ]
    }
   ],
   "source": [
    "numbers = collatz(10)\n",
    "for n in numbers:\n",
    "    print(n)"
   ]
  },
  {
   "attachments": {
    "Ans4.png": {
     "image/png": "[encoded data removed]"
    }
   },
   "cell_type": "markdown",
   "id": "0b1995cd",
   "metadata": {},
   "source": [
    "![Ans4.png](attachment:Ans4.png)"
   ]
  },
  {
   "cell_type": "markdown",
   "id": "18819c49",
   "metadata": {},
   "source": [
    "Question 5\n",
    "\n",
    "Write a recursive method binary() that takes a non-negative integer n and prints the binary representation of integer n."
   ]
  },
  {
   "cell_type": "code",
   "execution_count": 45,
   "id": "e06c3abf",
   "metadata": {},
   "outputs": [],
   "source": [
    "def binary(input): \n",
    "    if input<0: \n",
    "        return (\"Enter postive integer\")\n",
    "    \n",
    "    elif input >=1: \n",
    "        return ((10*binary(int(input/2))) + (input%2))\n",
    "        \n",
    "    else: \n",
    "        return 0"
   ]
  },
  {
   "cell_type": "code",
   "execution_count": 46,
   "id": "e5dfb3c2",
   "metadata": {},
   "outputs": [
    {
     "data": {
      "text/plain": [
       "0"
      ]
     },
     "execution_count": 46,
     "metadata": {},
     "output_type": "execute_result"
    }
   ],
   "source": [
    "binary(0)"
   ]
  },
  {
   "cell_type": "code",
   "execution_count": 47,
   "id": "128c9705",
   "metadata": {},
   "outputs": [
    {
     "data": {
      "text/plain": [
       "1"
      ]
     },
     "execution_count": 47,
     "metadata": {},
     "output_type": "execute_result"
    }
   ],
   "source": [
    "binary(1)"
   ]
  },
  {
   "cell_type": "code",
   "execution_count": 48,
   "id": "a06ef44f",
   "metadata": {},
   "outputs": [
    {
     "data": {
      "text/plain": [
       "11"
      ]
     },
     "execution_count": 48,
     "metadata": {},
     "output_type": "execute_result"
    }
   ],
   "source": [
    "binary(3)"
   ]
  },
  {
   "cell_type": "code",
   "execution_count": 49,
   "id": "b531db31",
   "metadata": {},
   "outputs": [
    {
     "data": {
      "text/plain": [
       "1001"
      ]
     },
     "execution_count": 49,
     "metadata": {},
     "output_type": "execute_result"
    }
   ],
   "source": [
    "binary(9)"
   ]
  },
  {
   "attachments": {
    "Ans5.png": {
     "image/png": "[encoded data removed]"
    }
   },
   "cell_type": "markdown",
   "id": "b89a9aa4",
   "metadata": {},
   "source": [
    "![Ans5.png](attachment:Ans5.png)"
   ]
  },
  {
   "cell_type": "markdown",
   "id": "d58689a4",
   "metadata": {},
   "source": [
    "Question 6\n",
    "\n",
    "Implement a class named HeadingParser that can be used to parse an HTML document, and retrieve and print all the headings in the document. You should implement your class as a subclass of HTMLParser, defined in Standard Library module html.parser. When fed a string containing HTML code, your class should print the headings, one per line and in the order in which they appear in the document. Each heading should be indented as follows: an h1 heading should have indentation 0, and h2 heading should have indentation 1, etc. Test your implementation using w3c.html."
   ]
  },
  {
   "cell_type": "code",
   "execution_count": 22,
   "id": "4cd6b2e9",
   "metadata": {},
   "outputs": [
    {
     "name": "stdout",
     "output_type": "stream",
     "text": [
      "W3C Mission\n",
      "\tPrinciples\n"
     ]
    }
   ],
   "source": [
    "from html.parser import HTMLParser\n",
    "class HeadingParser(HTMLParser):\n",
    "    flag = False\n",
    "    indetation_value = 0\n",
    "\n",
    "    def handle_starttag(self, tag, attrs):  \n",
    "        if tag == \"h1\":  \n",
    "            self.flag = True \n",
    "            self.indetation_value = 0\n",
    "\n",
    "        elif tag == \"h2\":\n",
    "            self.flag = True\n",
    "            self.indetation_value = 1\n",
    "        elif tag == \"h3\":\n",
    "            self.flag = True\n",
    "            self.indetation_value = 2\n",
    "        elif tag == \"h4\":\n",
    "            self.flag = True\n",
    "            self.indetation_value = 3\n",
    "        elif tag == \"h5\":\n",
    "            self.flag = True\n",
    "            self.indetation_value = 4\n",
    "        elif tag == \"h6\":\n",
    "            self.flag = True\n",
    "            self.indetation_value = 5\n",
    "\n",
    "\n",
    "    def handle_data(self, data):  \n",
    "        if self.flag:\n",
    "            print (self.indetation_value*\"\\t\"+data)\n",
    "\n",
    "    def handle_endtag(self, tag):  \n",
    "        if tag == \"h1\":  \n",
    "            self.flag = False\n",
    "        elif tag == \"h2\":\n",
    "            self.flag = False\n",
    "        elif tag == \"h3\":\n",
    "            self.flag = False\n",
    "        elif tag == \"h4\":\n",
    "            self.flag = False\n",
    "        elif tag == \"h5\":\n",
    "            self.flag = False\n",
    "        elif tag == \"h6\":\n",
    "            self.flag = False\n",
    "\n",
    "infile = open('w3c.html')\n",
    "content = infile.read()\n",
    "infile.close()\n",
    "hp = HeadingParser()\n",
    "hp.feed(content)"
   ]
  },
  {
   "attachments": {
    "Ans6.png": {
     "image/png": "[encoded data removed]"
    }
   },
   "cell_type": "markdown",
   "id": "17926cea",
   "metadata": {},
   "source": [
    "![Ans6.png](attachment:Ans6.png)"
   ]
  },
  {
   "cell_type": "markdown",
   "id": "c7c0deb8",
   "metadata": {},
   "source": [
    "Question 8\n",
    "Write SQL queries on the below database table that return: \n",
    "a) All the temperature data.\n",
    "b) All the cities, but without repetition.\n",
    "c) All the records for India.\n",
    "d) All the Fall records.\n",
    "e) The city, country, and season for which the average rainfall is between 200 \n",
    "and 400 millimeters.\n",
    "f) The city and country for which the average Fall temperature is above 20 \n",
    "degrees, in increasing temperature order.\n",
    "g) The total annual rainfall for Cairo.\n",
    "h) The total rainfall for each season."
   ]
  },
  {
   "cell_type": "code",
   "execution_count": 1,
   "id": "2d525699",
   "metadata": {},
   "outputs": [
    {
     "name": "stdout",
     "output_type": "stream",
     "text": [
      "Requirement already satisfied: mysql-connector-python in c:\\anaconda\\lib\\site-packages (8.0.31)\n",
      "Requirement already satisfied: protobuf<=3.20.1,>=3.11.0 in c:\\anaconda\\lib\\site-packages (from mysql-connector-python) (3.19.1)\n"
     ]
    }
   ],
   "source": [
    "!pip install mysql-connector-python"
   ]
  },
  {
   "cell_type": "code",
   "execution_count": 4,
   "id": "66c5c4f2",
   "metadata": {},
   "outputs": [],
   "source": [
    "import mysql.connector\n",
    "\n",
    "mydatabase = mysql.connector.connect(\n",
    "  host=\"localhost\",\n",
    "  user=\"root\",\n",
    "  password=\"HelloTaran123@\"\n",
    ")\n",
    "\n",
    "mycursor = mydatabase.cursor()\n",
    "\n",
    "mycursor.execute(\"CREATE DATABASE problemset2\")"
   ]
  },
  {
   "cell_type": "code",
   "execution_count": 5,
   "id": "fb1b8b86",
   "metadata": {},
   "outputs": [],
   "source": [
    "import mysql.connector\n",
    "\n",
    "mydatabase = mysql.connector.connect(\n",
    "  host=\"localhost\",\n",
    "  user=\"root\",\n",
    "  password=\"HelloTaran123@\",\n",
    "  database = 'problemset2'\n",
    ")\n",
    "\n",
    "mycursor = mydatabase.cursor()\n",
    "\n",
    "mycursor.execute(\"CREATE TABLE temperature_data (City VARCHAR(255), Country VARCHAR(255), Season VARCHAR(255),Temperature FLOAT,Rainfall FLOAT)\")"
   ]
  },
  {
   "cell_type": "code",
   "execution_count": 8,
   "id": "f17d6bf8",
   "metadata": {},
   "outputs": [
    {
     "name": "stdout",
     "output_type": "stream",
     "text": [
      "12 record(s) inserted.\n"
     ]
    }
   ],
   "source": [
    "import mysql.connector\n",
    "\n",
    "mydatabase = mysql.connector.connect(\n",
    "  host=\"localhost\",\n",
    "  user=\"root\",\n",
    "  password=\"HelloTaran123@\",\n",
    "  database = 'problemset2'\n",
    ")\n",
    "\n",
    "mycursor = mydatabase.cursor()\n",
    "\n",
    "sql = \"INSERT INTO temperature_data (City, Country, Season, Temperature, Rainfall) VALUES (%s,%s,%s,%s,%s)\"\n",
    "val = [\n",
    "    ('Mumbai','India','Winter',24.8,5.9),\n",
    "('Mumbai','India','Spring',28.4,16.2),\n",
    "('Mumbai','India','Summer',27.9,1549.4),\n",
    "('Mumbai','India','Fall',27.6,346.0),\n",
    "('London','United Kingdom','Winter',4.2,207.7),\n",
    "('London','United Kingdom','Spring',8.3,169.6),\n",
    "('London','United Kingdom','Summer',15.7,157.0),\n",
    "('London','United Kingdom','Fall',10.4,218.5),\n",
    "('Cairo','Egypt','Winter',13.6,16.5),\n",
    "('Cairo','Egypt','Spring',20.7,6.5),\n",
    "('Cairo','Egypt','Summer',27.7,0.1),\n",
    "('Cairo','Egypt','Fall',22.2,4.5)\n",
    "]\n",
    "mycursor.executemany(sql, val)\n",
    "\n",
    "print(mycursor.rowcount, \"record(s) inserted.\")"
   ]
  },
  {
   "attachments": {
    "Ans8.1.png": {
     "image/png": "[encoded data removed]"
    }
   },
   "cell_type": "markdown",
   "id": "e91e1724",
   "metadata": {},
   "source": [
    "![Ans8.1.png](attachment:Ans8.1.png)"
   ]
  },
  {
   "cell_type": "code",
   "execution_count": 9,
   "id": "be289fb4",
   "metadata": {},
   "outputs": [],
   "source": [
    "mydatabase.commit()"
   ]
  },
  {
   "cell_type": "code",
   "execution_count": 32,
   "id": "7a939319",
   "metadata": {},
   "outputs": [
    {
     "name": "stdout",
     "output_type": "stream",
     "text": [
      "(24.8,)\n",
      "(28.4,)\n",
      "(27.9,)\n",
      "(27.6,)\n",
      "(4.2,)\n",
      "(8.3,)\n",
      "(15.7,)\n",
      "(10.4,)\n",
      "(13.6,)\n",
      "(20.7,)\n",
      "(27.7,)\n",
      "(22.2,)\n"
     ]
    }
   ],
   "source": [
    "import mysql.connector\n",
    "\n",
    "mydatabase = mysql.connector.connect(\n",
    "  host=\"localhost\",\n",
    "  user=\"root\",\n",
    "  passwd=\"HelloTaran123@\",\n",
    "  database=\"problemset2\"\n",
    ")\n",
    "mycursor = mydatabase.cursor()\n",
    "\n",
    "sql = \"select temperature from temperature_data\"\n",
    "\n",
    "mycursor.execute(sql)\n",
    "\n",
    "myresult = mycursor.fetchall()\n",
    "\n",
    "for x in myresult:\n",
    "  print(x)"
   ]
  },
  {
   "attachments": {
    "Ans8.2.png": {
     "image/png": "[encoded data removed]"
    }
   },
   "cell_type": "markdown",
   "id": "eceb2ab2",
   "metadata": {},
   "source": [
    "![Ans8.2.png](attachment:Ans8.2.png)"
   ]
  },
  {
   "cell_type": "markdown",
   "id": "b982102e",
   "metadata": {},
   "source": [
    "import mysql.connector\n",
    "\n",
    "mydatabase = mysql.connector.connect(\n",
    "  host=\"localhost\",\n",
    "  user=\"root\",\n",
    "  passwd=\"HelloTaran123@\",\n",
    "  database=\"problemset2\"\n",
    ")\n",
    "mycursor = mydatabase.cursor()\n",
    "\n",
    "sql = \"select distinct(city) from temperature_data\"\n",
    "\n",
    "mycursor.execute(sql)\n",
    "\n",
    "myresult = mycursor.fetchall()\n",
    "\n",
    "for x in myresult:\n",
    "  print(x)"
   ]
  },
  {
   "cell_type": "code",
   "execution_count": 14,
   "id": "93791dec",
   "metadata": {},
   "outputs": [
    {
     "name": "stdout",
     "output_type": "stream",
     "text": [
      "('Mumbai', 'India', 'Winter', 24.8, 5.9)\n",
      "('Mumbai', 'India', 'Spring', 28.4, 16.2)\n",
      "('Mumbai', 'India', 'Summer', 27.9, 1549.4)\n",
      "('Mumbai', 'India', 'Fall', 27.6, 346.0)\n"
     ]
    }
   ],
   "source": [
    "import mysql.connector\n",
    "\n",
    "mydatabase = mysql.connector.connect(\n",
    "  host=\"localhost\",\n",
    "  user=\"root\",\n",
    "  passwd=\"HelloTaran123@\",\n",
    "  database=\"problemset2\"\n",
    ")\n",
    "mycursor = mydatabase.cursor()\n",
    "\n",
    "sql = \"select * from temperature_data where Country = 'India'\"\n",
    "\n",
    "mycursor.execute(sql)\n",
    "\n",
    "myresult = mycursor.fetchall()\n",
    "\n",
    "for x in myresult:\n",
    "  print(x)"
   ]
  },
  {
   "attachments": {
    "Ans8.4.png": {
     "image/png": "[encoded data removed]"
    }
   },
   "cell_type": "markdown",
   "id": "2ef7d3d1",
   "metadata": {},
   "source": [
    "![Ans8.4.png](attachment:Ans8.4.png)"
   ]
  },
  {
   "cell_type": "code",
   "execution_count": 28,
   "id": "ec231ac5",
   "metadata": {},
   "outputs": [
    {
     "name": "stdout",
     "output_type": "stream",
     "text": [
      "('Mumbai', 'India', 'Fall', 27.6, 346.0)\n",
      "('London', 'United Kingdom', 'Fall', 10.4, 218.5)\n",
      "('Cairo', 'Egypt', 'Fall', 22.2, 4.5)\n"
     ]
    }
   ],
   "source": [
    "import mysql.connector\n",
    "\n",
    "mydatabase = mysql.connector.connect(\n",
    "  host=\"localhost\",\n",
    "  user=\"root\",\n",
    "  passwd=\"HelloTaran123@\",\n",
    "  database=\"problemset2\"\n",
    ")\n",
    "mycursor = mydatabase.cursor()\n",
    "\n",
    "sql = \"select * from temperature_data where Season = 'Fall'\"\n",
    "\n",
    "mycursor.execute(sql)\n",
    "\n",
    "myresult = mycursor.fetchall()\n",
    "\n",
    "for x in myresult:\n",
    "  print(x)"
   ]
  },
  {
   "attachments": {
    "Ans8.5.png": {
     "image/png": "[encoded data removed]"
    }
   },
   "cell_type": "markdown",
   "id": "629ca02e",
   "metadata": {},
   "source": [
    "![Ans8.5.png](attachment:Ans8.5.png)"
   ]
  },
  {
   "cell_type": "code",
   "execution_count": 24,
   "id": "1a0b92c6",
   "metadata": {},
   "outputs": [
    {
     "name": "stdout",
     "output_type": "stream",
     "text": [
      "('Mumbai', 'India', 'Fall')\n",
      "('London', 'United Kingdom', 'Winter')\n",
      "('London', 'United Kingdom', 'Fall')\n"
     ]
    }
   ],
   "source": [
    "import mysql.connector\n",
    "\n",
    "mydatabase = mysql.connector.connect(\n",
    "  host=\"localhost\",\n",
    "  user=\"root\",\n",
    "  passwd=\"HelloTaran123@\",\n",
    "  database=\"problemset2\"\n",
    ")\n",
    "mycursor = mydatabase.cursor()\n",
    "\n",
    "sql = \"select City,Country,Season from temperature_data where Rainfall between 200 and 400\"\n",
    "\n",
    "mycursor.execute(sql)\n",
    "\n",
    "myresult = mycursor.fetchall()\n",
    "\n",
    "for x in myresult:\n",
    "  print(x)"
   ]
  },
  {
   "attachments": {
    "Ans8.6.png": {
     "image/png": "[encoded data removed]"
    }
   },
   "cell_type": "markdown",
   "id": "ab3e935a",
   "metadata": {},
   "source": [
    "![Ans8.6.png](attachment:Ans8.6.png)"
   ]
  },
  {
   "cell_type": "code",
   "execution_count": 29,
   "id": "b6c30872",
   "metadata": {},
   "outputs": [
    {
     "name": "stdout",
     "output_type": "stream",
     "text": [
      "('Cairo', 'Egypt')\n",
      "('Mumbai', 'India')\n"
     ]
    }
   ],
   "source": [
    "import mysql.connector\n",
    "\n",
    "mydatabase = mysql.connector.connect(\n",
    "  host=\"localhost\",\n",
    "  user=\"root\",\n",
    "  passwd=\"HelloTaran123@\",\n",
    "  database=\"problemset2\"\n",
    ")\n",
    "mycursor = mydatabase.cursor()\n",
    "\n",
    "sql = \"select City,Country from temperature_data where Season = 'Fall' and Temperature > 20 order by temperature\"\n",
    "\n",
    "mycursor.execute(sql)\n",
    "\n",
    "myresult = mycursor.fetchall()\n",
    "\n",
    "for x in myresult:\n",
    "  print(x)"
   ]
  },
  {
   "attachments": {
    "Ans8.7.png": {
     "image/png": "[encoded data removed]"
    }
   },
   "cell_type": "markdown",
   "id": "bc1a09f3",
   "metadata": {},
   "source": [
    "![Ans8.7.png](attachment:Ans8.7.png)"
   ]
  },
  {
   "cell_type": "code",
   "execution_count": 30,
   "id": "a7a04718",
   "metadata": {},
   "outputs": [
    {
     "name": "stdout",
     "output_type": "stream",
     "text": [
      "(27.600000001490116,)\n"
     ]
    }
   ],
   "source": [
    "import mysql.connector\n",
    "\n",
    "mydatabase = mysql.connector.connect(\n",
    "  host=\"localhost\",\n",
    "  user=\"root\",\n",
    "  passwd=\"HelloTaran123@\",\n",
    "  database=\"problemset2\"\n",
    ")\n",
    "mycursor = mydatabase.cursor()\n",
    "\n",
    "sql = \"select sum(rainfall) from temperature_data where city = 'Cairo'\"\n",
    "\n",
    "mycursor.execute(sql)\n",
    "\n",
    "myresult = mycursor.fetchall()\n",
    "\n",
    "for x in myresult:\n",
    "  print(x)"
   ]
  },
  {
   "attachments": {
    "Ans8.8.png": {
     "image/png": "[encoded data removed]"
    }
   },
   "cell_type": "markdown",
   "id": "c6137fa8",
   "metadata": {},
   "source": [
    "![Ans8.8.png](attachment:Ans8.8.png)"
   ]
  },
  {
   "cell_type": "code",
   "execution_count": 31,
   "id": "4e958da1",
   "metadata": {},
   "outputs": [
    {
     "name": "stdout",
     "output_type": "stream",
     "text": [
      "('Winter', 230.09999704360962)\n",
      "('Spring', 192.30000686645508)\n",
      "('Summer', 1706.5000244155526)\n",
      "('Fall', 569.0)\n"
     ]
    }
   ],
   "source": [
    "import mysql.connector\n",
    "\n",
    "mydatabase = mysql.connector.connect(\n",
    "  host=\"localhost\",\n",
    "  user=\"root\",\n",
    "  passwd=\"HelloTaran123@\",\n",
    "  database=\"problemset2\"\n",
    ")\n",
    "mycursor = mydatabase.cursor()\n",
    "\n",
    "sql = \"select season, sum(rainfall) from temperature_data group by Season\"\n",
    "\n",
    "mycursor.execute(sql)\n",
    "\n",
    "myresult = mycursor.fetchall()\n",
    "\n",
    "for x in myresult:\n",
    "  print(x)"
   ]
  },
  {
   "attachments": {
    "Ans8.9.png": {
     "image/png": "[encoded data removed]"
    }
   },
   "cell_type": "markdown",
   "id": "abfb6801",
   "metadata": {},
   "source": [
    "![Ans8.9.png](attachment:Ans8.9.png)"
   ]
  },
  {
   "cell_type": "markdown",
   "id": "77367d60",
   "metadata": {},
   "source": [
    "Question 9\n",
    "\n",
    ". Suppose list words is defined as follows:\n",
    "\n",
    ">>> words = ['The', 'quick', 'brown', 'fox', 'jumps', 'over', \n",
    "'the', 'lazy', 'dog']\n",
    "Write list comprehension expressions that use list words and generate the following \n",
    "lists:\n",
    "a) ['THE', 'QUICK', 'BROWN', 'FOX', 'JUMPS', 'OVER', 'THE', \n",
    "'LAZY', 'DOG']\n",
    "b) ['the', 'quick', 'brown', 'fox', 'jumps', 'over', 'the', \n",
    "'lazy', 'dog']\n",
    "c) [3, 5, 5, 3, 5, 4, 3, 4, 3] (the list of lengths of words in list \n",
    "words).\n",
    "d) [['THE', 'the', 3], ['QUICK', 'quick', 5], ['BROWN', \n",
    "'brown', 5], ['FOX', 'fox', 3], ['JUMPS', 'jumps', 5], \n",
    "['OVER', 'over', 4], ['THE', 'the', 3], ['LAZY', 'lazy', \n",
    "4], ['DOG', 'dog', 3]] (the list containing a list for every word of list \n",
    "words, where each list contains the word in uppercase and lowercase and the \n",
    "length of the word.)\n",
    "e) ['The', 'quick', 'brown', 'fox', 'jumps', 'over', 'the', \n",
    "'lazy', 'dog'] (the list of words in list words containing 4 or more \n",
    "characters."
   ]
  },
  {
   "cell_type": "code",
   "execution_count": 58,
   "id": "b0c0b815",
   "metadata": {},
   "outputs": [
    {
     "name": "stdout",
     "output_type": "stream",
     "text": [
      "['THE', 'QUICK', 'BROWN', 'FOX', 'JUMPS', 'OVER', 'THE', 'LAZY', 'DOG']\n",
      "['the', 'quick', 'brown', 'fox', 'jumps', 'over', 'the', 'lazy', 'dog']\n",
      "[3, 5, 5, 3, 5, 4, 3, 4, 3]\n",
      "[['THE', 'the', 3], ['QUICK', 'quick', 5], ['BROWN', 'brown', 5], ['FOX', 'fox', 3], ['JUMPS', 'jumps', 5], ['OVER', 'over', 4], ['THE', 'the', 3], ['LAZY', 'lazy', 4], ['DOG', 'dog', 3]]\n",
      "['quick', 'brown', 'jumps', 'over', 'lazy']\n"
     ]
    }
   ],
   "source": [
    "words = ['The', 'quick', 'brown', 'fox', 'jumps', 'over', 'the', 'lazy', 'dog']\n",
    "\n",
    "def upper(words):\n",
    "    upper_case_list = []\n",
    "    for word in words:\n",
    "        upper_case_list.append(word.upper())\n",
    "    return upper_case_list\n",
    "\n",
    "def lower(words):\n",
    "    lower_case_list = []\n",
    "    for word in words:\n",
    "        lower_case_list.append(word.lower())\n",
    "    return lower_case_list\n",
    "\n",
    "def length_of_words(words):\n",
    "    word_length_list = []\n",
    "    for word in words:\n",
    "        word_length_list.append(len(word))\n",
    "    return word_length_list\n",
    "\n",
    "def upper_lower_length_of_words(words):\n",
    "    final_list = []\n",
    "    upper_lower_length_of_words_list = []\n",
    "    for word in words:\n",
    "        upper_lower_length_of_words_list.clear()\n",
    "        upper_lower_length_of_words_list.append(word.upper())\n",
    "        upper_lower_length_of_words_list.append (word.lower())\n",
    "        upper_lower_length_of_words_list.append (len(word))\n",
    "        new_list = upper_lower_length_of_words_list.copy()\n",
    "        final_list.append(new_list)\n",
    "    return final_list\n",
    "\n",
    "def check_word_length(words):\n",
    "    word_length = []\n",
    "    for word in words:\n",
    "        if len(word) > 3:\n",
    "            word_length.append(word)\n",
    "    return word_length\n",
    "\n",
    "print(upper(words))\n",
    "print(lower(words))\n",
    "print(length_of_words(words))\n",
    "print(upper_lower_length_of_words(words))\n",
    "print(check_word_length(words))"
   ]
  },
  {
   "attachments": {
    "Ans9.png": {
     "image/png": "[encoded data removed]"
    }
   },
   "cell_type": "markdown",
   "id": "2d0c4852",
   "metadata": {},
   "source": [
    "![Ans9.png](attachment:Ans9.png)"
   ]
  },
  {
   "cell_type": "code",
   "execution_count": null,
   "id": "9f5315cb",
   "metadata": {},
   "outputs": [],
   "source": []
  }
 ],
 "metadata": {
  "kernelspec": {
   "display_name": "Python 3 (ipykernel)",
   "language": "python",
   "name": "python3"
  },
  "language_info": {
   "codemirror_mode": {
    "name": "ipython",
    "version": 3
   },
   "file_extension": ".py",
   "mimetype": "text/x-python",
   "name": "python",
   "nbconvert_exporter": "python",
   "pygments_lexer": "ipython3",
   "version": "3.9.12"
  }
 },
 "nbformat": 4,
 "nbformat_minor": 5
}
